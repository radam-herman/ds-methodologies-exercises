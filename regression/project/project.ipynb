{
 "cells": [
  {
   "cell_type": "markdown",
   "metadata": {},
   "source": [
    "Zillow Project"
   ]
  },
  {
   "cell_type": "markdown",
   "metadata": {},
   "source": [
    "# OBJECTIVE\n",
    "- Predicting the values of single unit properties \n",
    "\n",
    "     Constraints -\n",
    "           Only use those whose last transaction was during May and June in 2017 aka the \"hot            months\" (in terms of real estate demand)\n",
    "           \n",
    "     Additional (side information) -\n",
    "           - To know what states and counties these are located in\n",
    "           - to know the distribution of tax rates for each county\n"
   ]
  },
  {
   "cell_type": "markdown",
   "metadata": {},
   "source": [
    "Contents and Sections\n",
    "  PROJECT PLANNING & README\n",
    "  ACQUIRE\n",
    "  PREP\n",
    "  SPLIT & SCALE\n",
    "  DATA EXPLORATION\n",
    "  FEATURE SELECTION\n",
    "  MODELING & EVALUATION\n",
    "  \n",
    "  "
   ]
  },
  {
   "cell_type": "markdown",
   "metadata": {},
   "source": [
    "#  PROJECT PLANNING & README\n",
    "\n",
    "Initial thoughts about the data. Will select just square feet, bedroom and bathroom \n",
    "to test relationship to tax value. \n",
    " - Bedroom and bathroom seem very closely entwined, thinking of combining the two as a\n",
    "    single co-efficient, ie something like 1.025 for 1 bedroom and 2.5 baths.\n",
    " - square foot will have a weaker dependence (greater variance) to bedroom and bathroom\n",
    " - README.md file contains brief description of project and notes for various dependent files\n",
    "    as well as how to create the env.py file for the 'accessing the server' function"
   ]
  },
  {
   "cell_type": "markdown",
   "metadata": {},
   "source": [
    "#  ACQUIRE - this section creates a dataframe ready to prepare"
   ]
  },
  {
   "cell_type": "code",
   "execution_count": 1,
   "metadata": {},
   "outputs": [],
   "source": [
    "# import necessary modules, python scripts and functions\n",
    "\n",
    "import warnings\n",
    "warnings.filterwarnings(\"ignore\")\n",
    "\n",
    "import pandas as pd\n",
    "# %matplotlib inline # only for JNB, not for native python\n",
    "import matplotlib.pyplot as plt\n",
    "import seaborn as sns\n",
    "import numpy as np\n",
    "import env  # see README notes for creating this file\n",
    "import wrangle_project # this became the catch-all functions folders\n",
    "                       # it handles more than just wrangling\n",
    "\n",
    "from scipy import stats\n",
    "from math import sqrt"
   ]
  },
  {
   "cell_type": "markdown",
   "metadata": {},
   "source": [
    "- please note, for this project \"wrangle_project\" took on the roles of all\n",
    "    the acquire.py, prep.py, split_scale.py  model.py"
   ]
  },
  {
   "cell_type": "code",
   "execution_count": 2,
   "metadata": {},
   "outputs": [
    {
     "name": "stdout",
     "output_type": "stream",
     "text": [
      "\n",
      " \n",
      " \n",
      " \n",
      " \n",
      "BEGINNING OF BASELINE WRANGLE OUTPUTS\n"
     ]
    }
   ],
   "source": [
    "# this will create a Pandas Dataframe\n",
    "zillow_baseline = wrangle_project.wrangle_zillow_bl()\n",
    "# the \"BEGINNING OF BASELINE..\" text just shows it's running"
   ]
  },
  {
   "cell_type": "code",
   "execution_count": 3,
   "metadata": {},
   "outputs": [
    {
     "data": {
      "text/plain": [
       "pandas.core.frame.DataFrame"
      ]
     },
     "execution_count": 3,
     "metadata": {},
     "output_type": "execute_result"
    }
   ],
   "source": [
    "# confirming data type\n",
    "type(zillow_baseline)"
   ]
  },
  {
   "cell_type": "code",
   "execution_count": 4,
   "metadata": {},
   "outputs": [
    {
     "data": {
      "text/plain": [
       "(15000, 4)"
      ]
     },
     "execution_count": 4,
     "metadata": {},
     "output_type": "execute_result"
    }
   ],
   "source": [
    "zillow_baseline.shape\n",
    "# note - was (15052, 4) prior to removing nulls\n",
    "   # appears to have removed only 52 rows (only 0.35 %)\n",
    "    # preferred rewriting SQL script to remove the nulls"
   ]
  },
  {
   "cell_type": "code",
   "execution_count": 5,
   "metadata": {},
   "outputs": [
    {
     "data": {
      "text/html": [
       "<div>\n",
       "<style scoped>\n",
       "    .dataframe tbody tr th:only-of-type {\n",
       "        vertical-align: middle;\n",
       "    }\n",
       "\n",
       "    .dataframe tbody tr th {\n",
       "        vertical-align: top;\n",
       "    }\n",
       "\n",
       "    .dataframe thead th {\n",
       "        text-align: right;\n",
       "    }\n",
       "</style>\n",
       "<table border=\"1\" class=\"dataframe\">\n",
       "  <thead>\n",
       "    <tr style=\"text-align: right;\">\n",
       "      <th></th>\n",
       "      <th>calculatedfinishedsquarefeet</th>\n",
       "      <th>bedroomcnt</th>\n",
       "      <th>bathroomcnt</th>\n",
       "      <th>taxvaluedollarcnt</th>\n",
       "    </tr>\n",
       "  </thead>\n",
       "  <tbody>\n",
       "    <tr>\n",
       "      <th>0</th>\n",
       "      <td>1458.0</td>\n",
       "      <td>3.0</td>\n",
       "      <td>2.0</td>\n",
       "      <td>136104.0</td>\n",
       "    </tr>\n",
       "    <tr>\n",
       "      <th>1</th>\n",
       "      <td>1421.0</td>\n",
       "      <td>2.0</td>\n",
       "      <td>1.0</td>\n",
       "      <td>35606.0</td>\n",
       "    </tr>\n",
       "    <tr>\n",
       "      <th>2</th>\n",
       "      <td>2541.0</td>\n",
       "      <td>4.0</td>\n",
       "      <td>3.0</td>\n",
       "      <td>880456.0</td>\n",
       "    </tr>\n",
       "    <tr>\n",
       "      <th>3</th>\n",
       "      <td>1650.0</td>\n",
       "      <td>3.0</td>\n",
       "      <td>2.0</td>\n",
       "      <td>614000.0</td>\n",
       "    </tr>\n",
       "    <tr>\n",
       "      <th>4</th>\n",
       "      <td>693.0</td>\n",
       "      <td>2.0</td>\n",
       "      <td>1.0</td>\n",
       "      <td>274237.0</td>\n",
       "    </tr>\n",
       "  </tbody>\n",
       "</table>\n",
       "</div>"
      ],
      "text/plain": [
       "   calculatedfinishedsquarefeet  bedroomcnt  bathroomcnt  taxvaluedollarcnt\n",
       "0                        1458.0         3.0          2.0           136104.0\n",
       "1                        1421.0         2.0          1.0            35606.0\n",
       "2                        2541.0         4.0          3.0           880456.0\n",
       "3                        1650.0         3.0          2.0           614000.0\n",
       "4                         693.0         2.0          1.0           274237.0"
      ]
     },
     "execution_count": 5,
     "metadata": {},
     "output_type": "execute_result"
    }
   ],
   "source": [
    "zillow_baseline.head()"
   ]
  },
  {
   "cell_type": "code",
   "execution_count": 6,
   "metadata": {},
   "outputs": [
    {
     "data": {
      "text/plain": [
       "calculatedfinishedsquarefeet    float64\n",
       "bedroomcnt                      float64\n",
       "bathroomcnt                     float64\n",
       "taxvaluedollarcnt               float64\n",
       "dtype: object"
      ]
     },
     "execution_count": 6,
     "metadata": {},
     "output_type": "execute_result"
    }
   ],
   "source": [
    "zillow_baseline.dtypes"
   ]
  },
  {
   "cell_type": "code",
   "execution_count": 7,
   "metadata": {},
   "outputs": [
    {
     "data": {
      "text/html": [
       "<div>\n",
       "<style scoped>\n",
       "    .dataframe tbody tr th:only-of-type {\n",
       "        vertical-align: middle;\n",
       "    }\n",
       "\n",
       "    .dataframe tbody tr th {\n",
       "        vertical-align: top;\n",
       "    }\n",
       "\n",
       "    .dataframe thead th {\n",
       "        text-align: right;\n",
       "    }\n",
       "</style>\n",
       "<table border=\"1\" class=\"dataframe\">\n",
       "  <thead>\n",
       "    <tr style=\"text-align: right;\">\n",
       "      <th></th>\n",
       "      <th>calculatedfinishedsquarefeet</th>\n",
       "      <th>bedroomcnt</th>\n",
       "      <th>bathroomcnt</th>\n",
       "      <th>taxvaluedollarcnt</th>\n",
       "    </tr>\n",
       "  </thead>\n",
       "  <tbody>\n",
       "    <tr>\n",
       "      <th>count</th>\n",
       "      <td>15000.000000</td>\n",
       "      <td>15000.000000</td>\n",
       "      <td>15000.000000</td>\n",
       "      <td>1.500000e+04</td>\n",
       "    </tr>\n",
       "    <tr>\n",
       "      <th>mean</th>\n",
       "      <td>1942.856933</td>\n",
       "      <td>3.316067</td>\n",
       "      <td>2.328933</td>\n",
       "      <td>5.414695e+05</td>\n",
       "    </tr>\n",
       "    <tr>\n",
       "      <th>std</th>\n",
       "      <td>1001.032811</td>\n",
       "      <td>0.936497</td>\n",
       "      <td>1.019071</td>\n",
       "      <td>7.307493e+05</td>\n",
       "    </tr>\n",
       "    <tr>\n",
       "      <th>min</th>\n",
       "      <td>300.000000</td>\n",
       "      <td>1.000000</td>\n",
       "      <td>1.000000</td>\n",
       "      <td>1.050400e+04</td>\n",
       "    </tr>\n",
       "    <tr>\n",
       "      <th>25%</th>\n",
       "      <td>1276.000000</td>\n",
       "      <td>3.000000</td>\n",
       "      <td>2.000000</td>\n",
       "      <td>1.988120e+05</td>\n",
       "    </tr>\n",
       "    <tr>\n",
       "      <th>50%</th>\n",
       "      <td>1680.000000</td>\n",
       "      <td>3.000000</td>\n",
       "      <td>2.000000</td>\n",
       "      <td>3.849485e+05</td>\n",
       "    </tr>\n",
       "    <tr>\n",
       "      <th>75%</th>\n",
       "      <td>2346.000000</td>\n",
       "      <td>4.000000</td>\n",
       "      <td>3.000000</td>\n",
       "      <td>6.449432e+05</td>\n",
       "    </tr>\n",
       "    <tr>\n",
       "      <th>max</th>\n",
       "      <td>15450.000000</td>\n",
       "      <td>12.000000</td>\n",
       "      <td>11.000000</td>\n",
       "      <td>2.385837e+07</td>\n",
       "    </tr>\n",
       "  </tbody>\n",
       "</table>\n",
       "</div>"
      ],
      "text/plain": [
       "       calculatedfinishedsquarefeet    bedroomcnt   bathroomcnt  \\\n",
       "count                  15000.000000  15000.000000  15000.000000   \n",
       "mean                    1942.856933      3.316067      2.328933   \n",
       "std                     1001.032811      0.936497      1.019071   \n",
       "min                      300.000000      1.000000      1.000000   \n",
       "25%                     1276.000000      3.000000      2.000000   \n",
       "50%                     1680.000000      3.000000      2.000000   \n",
       "75%                     2346.000000      4.000000      3.000000   \n",
       "max                    15450.000000     12.000000     11.000000   \n",
       "\n",
       "       taxvaluedollarcnt  \n",
       "count       1.500000e+04  \n",
       "mean        5.414695e+05  \n",
       "std         7.307493e+05  \n",
       "min         1.050400e+04  \n",
       "25%         1.988120e+05  \n",
       "50%         3.849485e+05  \n",
       "75%         6.449432e+05  \n",
       "max         2.385837e+07  "
      ]
     },
     "execution_count": 7,
     "metadata": {},
     "output_type": "execute_result"
    }
   ],
   "source": [
    "zillow_baseline.describe()"
   ]
  },
  {
   "cell_type": "code",
   "execution_count": null,
   "metadata": {},
   "outputs": [],
   "source": []
  },
  {
   "cell_type": "markdown",
   "metadata": {},
   "source": [
    "# Baseline"
   ]
  },
  {
   "cell_type": "markdown",
   "metadata": {},
   "source": [
    "REMEMBER use only \n",
    "   square feet, number of bedrooms, and number of bathrooms \n",
    "            to estimate the properties assessed value, 'taxvaluedollarcnt'. "
   ]
  },
  {
   "cell_type": "markdown",
   "metadata": {},
   "source": [
    "# BASELINE wrangle"
   ]
  },
  {
   "cell_type": "markdown",
   "metadata": {},
   "source": [
    "    NOTE on SQL at this stage:\n",
    "    SELECT calculatedfinishedsquarefeet, bedroomcnt, bathroomcnt, taxvaluedollarcnt\n",
    "    FROM properties_2017\n",
    "    WHERE propertylandusetypeid IN (261, 262, 273, 275, 279)"
   ]
  },
  {
   "cell_type": "markdown",
   "metadata": {},
   "source": [
    "Baseline WRANGLE X and TARGET \n",
    "    aka separating X and y"
   ]
  },
  {
   "cell_type": "code",
   "execution_count": 8,
   "metadata": {},
   "outputs": [],
   "source": [
    "bl_X, bl_y = wrangle_project.bl_sort_X_y(zillow_baseline)"
   ]
  },
  {
   "cell_type": "code",
   "execution_count": 9,
   "metadata": {},
   "outputs": [
    {
     "data": {
      "text/plain": [
       "((15000, 3), pandas.core.frame.DataFrame)"
      ]
     },
     "execution_count": 9,
     "metadata": {},
     "output_type": "execute_result"
    }
   ],
   "source": [
    "bl_X.shape, type(bl_X)"
   ]
  },
  {
   "cell_type": "code",
   "execution_count": 10,
   "metadata": {},
   "outputs": [
    {
     "data": {
      "text/plain": [
       "((15000, 1), pandas.core.frame.DataFrame)"
      ]
     },
     "execution_count": 10,
     "metadata": {},
     "output_type": "execute_result"
    }
   ],
   "source": [
    "bl_y.shape, type(bl_y)"
   ]
  },
  {
   "cell_type": "markdown",
   "metadata": {},
   "source": [
    "ONLY DO THE asterix FOR THE BASELINE\n",
    "\n",
    "**scale data\n",
    "\n",
    "no - explore for any visual\n",
    "no - evaluate\n",
    "   Q2. Compute evaluation metrics for a baseline model\n",
    "      3. Coefficient of Determination and the F-test\n",
    "   Q3. Are our features valuable? The T-test for feature significance\n",
    "   Q4. How much confidence do we have in our results?\n",
    "       Parameters and confidence\n",
    "no - Feature Engineering\n",
    "\n",
    "**Modeling with Regression Algorithms\n"
   ]
  },
  {
   "cell_type": "markdown",
   "metadata": {},
   "source": [
    "# BASELINE Split\n",
    "- creating X_train, X_test, y_train, y_test"
   ]
  },
  {
   "cell_type": "code",
   "execution_count": 11,
   "metadata": {},
   "outputs": [],
   "source": [
    "X_train, X_test, y_train, y_test = wrangle_project.split_data(bl_X, bl_y, train_pct=.75, random_seed=42)"
   ]
  },
  {
   "cell_type": "code",
   "execution_count": 12,
   "metadata": {},
   "outputs": [
    {
     "name": "stdout",
     "output_type": "stream",
     "text": [
      "X_t shapes and types\n",
      " ------\n"
     ]
    },
    {
     "data": {
      "text/plain": [
       "((11250, 3),\n",
       " pandas.core.frame.DataFrame,\n",
       " (3750, 3),\n",
       " pandas.core.frame.DataFrame)"
      ]
     },
     "execution_count": 12,
     "metadata": {},
     "output_type": "execute_result"
    }
   ],
   "source": [
    "print(\"X_t shapes and types\\n\", \"-\" * 6 )\n",
    "X_train.shape, type(X_train), X_test.shape, type(X_test)"
   ]
  },
  {
   "cell_type": "code",
   "execution_count": 13,
   "metadata": {},
   "outputs": [
    {
     "name": "stdout",
     "output_type": "stream",
     "text": [
      "y_t shapes and types\n",
      " ------\n"
     ]
    },
    {
     "data": {
      "text/plain": [
       "((11250, 1),\n",
       " pandas.core.frame.DataFrame,\n",
       " (3750, 1),\n",
       " pandas.core.frame.DataFrame)"
      ]
     },
     "execution_count": 13,
     "metadata": {},
     "output_type": "execute_result"
    }
   ],
   "source": [
    "print(\"y_t shapes and types\\n\", \"-\" * 6 )\n",
    "y_train.shape, type(y_train), y_test.shape, type(y_test)"
   ]
  },
  {
   "cell_type": "markdown",
   "metadata": {},
   "source": [
    "# BASELINE Scale"
   ]
  },
  {
   "cell_type": "code",
   "execution_count": 14,
   "metadata": {},
   "outputs": [],
   "source": [
    "import pandas as pd\n",
    "import numpy as np\n",
    "from sklearn.model_selection import train_test_split\n",
    "from sklearn.preprocessing import StandardScaler, QuantileTransformer, PowerTransformer, RobustScaler, MinMaxScaler\n",
    "import math"
   ]
  },
  {
   "cell_type": "code",
   "execution_count": 15,
   "metadata": {},
   "outputs": [],
   "source": [
    "   # call the Scaler (make obj/fit/transform/ all at once)\n",
    "Xscaler, Xtrain_scaled, Xtest_scaled = wrangle_project.standard_scaler(X_train, X_test)"
   ]
  },
  {
   "cell_type": "code",
   "execution_count": 16,
   "metadata": {},
   "outputs": [
    {
     "data": {
      "text/html": [
       "<div>\n",
       "<style scoped>\n",
       "    .dataframe tbody tr th:only-of-type {\n",
       "        vertical-align: middle;\n",
       "    }\n",
       "\n",
       "    .dataframe tbody tr th {\n",
       "        vertical-align: top;\n",
       "    }\n",
       "\n",
       "    .dataframe thead th {\n",
       "        text-align: right;\n",
       "    }\n",
       "</style>\n",
       "<table border=\"1\" class=\"dataframe\">\n",
       "  <thead>\n",
       "    <tr style=\"text-align: right;\">\n",
       "      <th></th>\n",
       "      <th>calculatedfinishedsquarefeet</th>\n",
       "      <th>bedroomcnt</th>\n",
       "      <th>bathroomcnt</th>\n",
       "    </tr>\n",
       "  </thead>\n",
       "  <tbody>\n",
       "    <tr>\n",
       "      <th>7410</th>\n",
       "      <td>-0.328020</td>\n",
       "      <td>-0.331221</td>\n",
       "      <td>-0.321915</td>\n",
       "    </tr>\n",
       "    <tr>\n",
       "      <th>10894</th>\n",
       "      <td>-0.542461</td>\n",
       "      <td>-0.331221</td>\n",
       "      <td>-1.298203</td>\n",
       "    </tr>\n",
       "    <tr>\n",
       "      <th>1934</th>\n",
       "      <td>0.347073</td>\n",
       "      <td>-0.331221</td>\n",
       "      <td>-0.321915</td>\n",
       "    </tr>\n",
       "    <tr>\n",
       "      <th>11539</th>\n",
       "      <td>1.057906</td>\n",
       "      <td>-0.331221</td>\n",
       "      <td>0.654374</td>\n",
       "    </tr>\n",
       "    <tr>\n",
       "      <th>2952</th>\n",
       "      <td>0.981462</td>\n",
       "      <td>0.730687</td>\n",
       "      <td>0.654374</td>\n",
       "    </tr>\n",
       "  </tbody>\n",
       "</table>\n",
       "</div>"
      ],
      "text/plain": [
       "       calculatedfinishedsquarefeet  bedroomcnt  bathroomcnt\n",
       "7410                      -0.328020   -0.331221    -0.321915\n",
       "10894                     -0.542461   -0.331221    -1.298203\n",
       "1934                       0.347073   -0.331221    -0.321915\n",
       "11539                      1.057906   -0.331221     0.654374\n",
       "2952                       0.981462    0.730687     0.654374"
      ]
     },
     "execution_count": 16,
     "metadata": {},
     "output_type": "execute_result"
    }
   ],
   "source": [
    "Xtrain_scaled.head()"
   ]
  },
  {
   "cell_type": "code",
   "execution_count": 17,
   "metadata": {},
   "outputs": [
    {
     "data": {
      "text/plain": [
       "(sklearn.preprocessing.data.StandardScaler,\n",
       " pandas.core.frame.DataFrame,\n",
       " pandas.core.frame.DataFrame)"
      ]
     },
     "execution_count": 17,
     "metadata": {},
     "output_type": "execute_result"
    }
   ],
   "source": [
    "# check types\n",
    "type(Xscaler), type(Xtrain_scaled), type(Xtest_scaled)"
   ]
  },
  {
   "cell_type": "code",
   "execution_count": 18,
   "metadata": {},
   "outputs": [
    {
     "name": "stdout",
     "output_type": "stream",
     "text": [
      "Mean:\n",
      "[1940.40435556    3.31191111    2.32973333]\n",
      "Standard Deviation:\n",
      "[1007.2686155070422, 0.9417007739480312, 1.0242874683299497]\n"
     ]
    }
   ],
   "source": [
    "import math\n",
    "\n",
    "print(\"Mean:\") \n",
    "print(Xscaler.mean_)\n",
    "print(\"Standard Deviation:\")\n",
    "print([math.sqrt(i) for i in Xscaler.var_])"
   ]
  },
  {
   "cell_type": "markdown",
   "metadata": {},
   "source": [
    "1 & 2 Create Object and Fit to Data\n",
    "This takes the steps of the Fx individually"
   ]
  },
  {
   "cell_type": "markdown",
   "metadata": {},
   "source": [
    "# BASELINE Model"
   ]
  },
  {
   "cell_type": "code",
   "execution_count": 19,
   "metadata": {},
   "outputs": [],
   "source": [
    "# run linear regression model Fx"
   ]
  },
  {
   "cell_type": "code",
   "execution_count": 20,
   "metadata": {},
   "outputs": [
    {
     "name": "stdout",
     "output_type": "stream",
     "text": [
      "X_t shapes and types\n",
      " ------\n"
     ]
    },
    {
     "data": {
      "text/plain": [
       "((11250, 3),\n",
       " pandas.core.frame.DataFrame,\n",
       " (3750, 3),\n",
       " pandas.core.frame.DataFrame)"
      ]
     },
     "execution_count": 20,
     "metadata": {},
     "output_type": "execute_result"
    }
   ],
   "source": [
    "# reassessing inputs\n",
    "print(\"X_t shapes and types\\n\", \"-\" * 6 )\n",
    "X_train.shape, type(X_train), X_test.shape, type(X_test)"
   ]
  },
  {
   "cell_type": "code",
   "execution_count": 21,
   "metadata": {},
   "outputs": [
    {
     "name": "stdout",
     "output_type": "stream",
     "text": [
      "y_t shapes and types\n",
      " ------\n"
     ]
    },
    {
     "data": {
      "text/plain": [
       "((11250, 1),\n",
       " pandas.core.frame.DataFrame,\n",
       " (3750, 1),\n",
       " pandas.core.frame.DataFrame)"
      ]
     },
     "execution_count": 21,
     "metadata": {},
     "output_type": "execute_result"
    }
   ],
   "source": [
    "print(\"y_t shapes and types\\n\", \"-\" * 6 )\n",
    "y_train.shape, type(y_train), y_test.shape, type(y_test)"
   ]
  },
  {
   "cell_type": "code",
   "execution_count": null,
   "metadata": {},
   "outputs": [],
   "source": []
  },
  {
   "cell_type": "code",
   "execution_count": 22,
   "metadata": {},
   "outputs": [],
   "source": [
    "  # call Fx\n",
    "predictions_train,predictions_test = wrangle_project.modeling_function_lr_bl(X_train,X_test,y_train,y_test)"
   ]
  },
  {
   "cell_type": "code",
   "execution_count": 23,
   "metadata": {},
   "outputs": [
    {
     "data": {
      "text/plain": [
       "(pandas.core.frame.DataFrame, pandas.core.frame.DataFrame)"
      ]
     },
     "execution_count": 23,
     "metadata": {},
     "output_type": "execute_result"
    }
   ],
   "source": [
    "type(predictions_train),type(predictions_test)"
   ]
  },
  {
   "cell_type": "code",
   "execution_count": 24,
   "metadata": {},
   "outputs": [],
   "source": [
    "model_train,model_test=wrangle_project.modeling_function_lr_bl(X_train,X_test,y_train,y_test)"
   ]
  },
  {
   "cell_type": "code",
   "execution_count": 25,
   "metadata": {},
   "outputs": [
    {
     "name": "stdout",
     "output_type": "stream",
     "text": [
      "     actual            lm2\n",
      "0  510433.0  440866.810735\n",
      "1  403872.0  241277.494339\n",
      "2  241209.0  340274.862204\n",
      "3  663144.0  739585.278976\n",
      "4  183883.0  163336.441130\n",
      "     actual           lm1\n",
      "0  573616.0  4.157153e+05\n",
      "1  320000.0  2.561901e+05\n",
      "2  573909.0  7.412817e+05\n",
      "3  813831.0  1.140194e+06\n",
      "4  923877.0  9.511667e+05\n"
     ]
    }
   ],
   "source": [
    "print(model_test.head())\n",
    "print(model_train.head())"
   ]
  },
  {
   "cell_type": "markdown",
   "metadata": {},
   "source": [
    "# BASELINE Linear Regression"
   ]
  },
  {
   "cell_type": "code",
   "execution_count": 26,
   "metadata": {},
   "outputs": [
    {
     "name": "stdout",
     "output_type": "stream",
     "text": [
      "LinearRegression(copy_X=True, fit_intercept=True, n_jobs=None, normalize=False)\n"
     ]
    }
   ],
   "source": [
    "from sklearn.linear_model import LinearRegression\n",
    "from sklearn.metrics import mean_squared_error, r2_score, explained_variance_score\n",
    "\n",
    "\n",
    "\n",
    "lm1 = LinearRegression()\n",
    "\n",
    "print(lm1)"
   ]
  },
  {
   "cell_type": "code",
   "execution_count": 27,
   "metadata": {},
   "outputs": [
    {
     "name": "stdout",
     "output_type": "stream",
     "text": [
      "Linear Model: LinearRegression(copy_X=True, fit_intercept=True, n_jobs=None, normalize=False)\n",
      "intercept:  [-10846.14131993]\n",
      "coefficients:  [[    478.7741327  -152161.63303668   56109.97815439]]\n"
     ]
    }
   ],
   "source": [
    "lm1.fit(X_train, y_train)\n",
    "print(\"Linear Model:\", lm1)\n",
    "\n",
    "lm1_y_intercept = lm1.intercept_\n",
    "print(\"intercept: \", lm1_y_intercept)\n",
    "\n",
    "lm1_coefficients = lm1.coef_\n",
    "print(\"coefficients: \", lm1_coefficients)"
   ]
  },
  {
   "cell_type": "code",
   "execution_count": 28,
   "metadata": {},
   "outputs": [
    {
     "name": "stdout",
     "output_type": "stream",
     "text": [
      "taxvaluedollarcnt = b + m1 * calculatedfinishedsquarefeet + m2 * bedroomcnt\n",
      "    y-intercept  (b): -10846.14\n",
      "    coefficient (m1): 478.77\n",
      "    coefficient (m2): -152161.63\n"
     ]
    }
   ],
   "source": [
    "print('{} = b + m1 * {} + m2 * {}'.format(y_train.columns[0], X_train.columns[0],X_train.columns[1]))\n",
    "print('    y-intercept  (b): %.2f' % lm1_y_intercept)\n",
    "print('    coefficient (m1): %.2f' % lm1_coefficients[0][0])\n",
    "print('    coefficient (m2): %.2f' % lm1_coefficients[0][1])"
   ]
  },
  {
   "cell_type": "markdown",
   "metadata": {},
   "source": [
    "IN-SAMPLE PREDICTION"
   ]
  },
  {
   "cell_type": "code",
   "execution_count": 29,
   "metadata": {},
   "outputs": [
    {
     "data": {
      "text/plain": [
       "numpy.ndarray"
      ]
     },
     "execution_count": 29,
     "metadata": {},
     "output_type": "execute_result"
    }
   ],
   "source": [
    "y_pred_lm1 = lm1.predict(X_train)\n",
    "type(y_pred_lm1)"
   ]
  },
  {
   "cell_type": "markdown",
   "metadata": {},
   "source": [
    "TRAIN/IN-SAMPLE EVALUATIONS"
   ]
  },
  {
   "cell_type": "code",
   "execution_count": 30,
   "metadata": {},
   "outputs": [
    {
     "name": "stdout",
     "output_type": "stream",
     "text": [
      "linear model\n",
      "  mean squared error: 3.06e+11\n",
      "  40.25% of the variance in tax value can be explained by square feet, and bath and bedroom counts.\n"
     ]
    }
   ],
   "source": [
    "mse_lm1 = mean_squared_error(y_train, y_pred_lm1)\n",
    "print(\"linear model\\n  mean squared error: {:.3}\".format(mse_lm1)) \n",
    "\n",
    "r2_lm1 = r2_score(y_train, y_pred_lm1)\n",
    "print('  {:.2%} of the variance in tax value can be explained by square feet, and bath and bedroom counts.'.format(r2_lm1))"
   ]
  },
  {
   "cell_type": "markdown",
   "metadata": {},
   "source": [
    "Establish Baseline"
   ]
  },
  {
   "cell_type": "code",
   "execution_count": 31,
   "metadata": {},
   "outputs": [
    {
     "name": "stdout",
     "output_type": "stream",
     "text": [
      "mean squared error\n",
      " model: 5.1234e+11\n",
      "  0.00% of the variance in tax value can be explained by square feet, and bath and bedroom counts.\n"
     ]
    }
   ],
   "source": [
    "from math import sqrt\n",
    "\n",
    "y_pred_baseline = np.array([y_train.mean()[0]]*len(y_train))\n",
    "MSE = mean_squared_error(y_train, y_pred_baseline)\n",
    "SSE = MSE*len(y_train)\n",
    "RMSE = sqrt(MSE)\n",
    "\n",
    "evs = explained_variance_score(y_train, y_pred_baseline)\n",
    "\n",
    "print('mean squared error\\n model: {:.5}'.format(MSE))\n",
    "print('  {:.2%} of the variance in tax value can be explained by square feet, and bath and bedroom counts.'.format(evs))"
   ]
  },
  {
   "cell_type": "markdown",
   "metadata": {},
   "source": [
    "Sample vs baseline comparison\n",
    "\n",
    "sample = mean squared error: 3.06e+11 | baseline = model: 5.7639e+15\n",
    "\n",
    "so the model is better"
   ]
  },
  {
   "cell_type": "markdown",
   "metadata": {},
   "source": [
    "# Making a pair plot for baseline/MVP\n",
    "- initial features \n",
    "    calculatedfinishedsquarefeet, bedroomcnt, bathroomcnt"
   ]
  },
  {
   "cell_type": "code",
   "execution_count": 32,
   "metadata": {},
   "outputs": [],
   "source": [
    "import matplotlib.pyplot as plt\n",
    "import seaborn as sns\n",
    "\n",
    "import pandas as pd\n",
    "import numpy as np\n",
    "import matplotlib.pyplot as plt\n",
    "import seaborn as sns\n",
    "from sklearn.model_selection import train_test_split\n",
    "from sklearn.preprocessing import StandardScaler, MinMaxScaler\n",
    "import warnings\n",
    "warnings.filterwarnings(\"ignore\")"
   ]
  },
  {
   "cell_type": "markdown",
   "metadata": {},
   "source": [
    "seaborn.jointplot"
   ]
  },
  {
   "cell_type": "code",
   "execution_count": 33,
   "metadata": {},
   "outputs": [
    {
     "data": {
      "image/png": "[encoded data removed]",
      "text/plain": [
       "<Figure size 360x360 with 3 Axes>"
      ]
     },
     "metadata": {},
     "output_type": "display_data"
    }
   ],
   "source": [
    "# calculatedfinishedsquarefeet, bedroomcnt, bathroomcnt\n",
    "\n",
    "with sns.axes_style('white'):\n",
    "    j = sns.jointplot(\"bedroomcnt\", \"bathroomcnt\", data=X_train, kind='reg', height=5);\n",
    "plt.show()"
   ]
  },
  {
   "cell_type": "code",
   "execution_count": 34,
   "metadata": {},
   "outputs": [],
   "source": [
    "#pd.cut(X_train)"
   ]
  },
  {
   "cell_type": "code",
   "execution_count": 35,
   "metadata": {
    "scrolled": true
   },
   "outputs": [],
   "source": [
    "# plt.subplot(121)\n",
    "# sns.catplot(x=\"bedroomcnt\", kind=\"count\", palette=\"ch:.25\", data=X_train)\n",
    "# plt.subplot(122)\n",
    "# sns.catplot(x=\"bathroomcnt\", kind=\"count\", palette=\"ch:.25\", data=X_train)\n",
    "#plt.show()\n",
    "\n"
   ]
  },
  {
   "cell_type": "code",
   "execution_count": 36,
   "metadata": {},
   "outputs": [
    {
     "data": {
      "image/png": "[encoded data removed]",
      "text/plain": [
       "<Figure size 432x288 with 4 Axes>"
      ]
     },
     "metadata": {
      "needs_background": "light"
     },
     "output_type": "display_data"
    }
   ],
   "source": [
    "X_train.plot(kind='box', subplots=True, layout=(2,2), sharex=False, sharey=False)\n",
    "plt.show()"
   ]
  },
  {
   "cell_type": "code",
   "execution_count": 37,
   "metadata": {},
   "outputs": [
    {
     "data": {
      "image/png": "[encoded data removed]",
      "text/plain": [
       "<Figure size 432x288 with 4 Axes>"
      ]
     },
     "metadata": {
      "needs_background": "light"
     },
     "output_type": "display_data"
    }
   ],
   "source": [
    "Xtrain_scaled.plot(kind='box', subplots=True, layout=(2,2), sharex=False, sharey=False)\n",
    "plt.show()"
   ]
  },
  {
   "cell_type": "code",
   "execution_count": 38,
   "metadata": {},
   "outputs": [
    {
     "data": {
      "image/png": "[encoded data removed]",
      "text/plain": [
       "<Figure size 432x288 with 4 Axes>"
      ]
     },
     "metadata": {
      "needs_background": "light"
     },
     "output_type": "display_data"
    }
   ],
   "source": [
    "Xtrain_scaled.hist()\n",
    "plt.show()"
   ]
  },
  {
   "cell_type": "code",
   "execution_count": 39,
   "metadata": {},
   "outputs": [
    {
     "data": {
      "image/png": "[encoded data removed]",
      "text/plain": [
       "<Figure size 432x288 with 4 Axes>"
      ]
     },
     "metadata": {
      "needs_background": "light"
     },
     "output_type": "display_data"
    }
   ],
   "source": [
    "X_train.hist()\n",
    "plt.show()"
   ]
  },
  {
   "cell_type": "code",
   "execution_count": 40,
   "metadata": {},
   "outputs": [
    {
     "data": {
      "text/plain": [
       "bathroomcnt\n",
       "1.0     2002\n",
       "1.5      177\n",
       "2.0     4610\n",
       "2.5      868\n",
       "3.0     2351\n",
       "3.5      236\n",
       "4.0      506\n",
       "4.5      149\n",
       "5.0      173\n",
       "5.5       50\n",
       "6.0       78\n",
       "6.5       13\n",
       "7.0       16\n",
       "7.5        4\n",
       "8.0       12\n",
       "9.0        3\n",
       "10.0       1\n",
       "11.0       1\n",
       "Name: bathroomcnt, dtype: int64"
      ]
     },
     "execution_count": 40,
     "metadata": {},
     "output_type": "execute_result"
    }
   ],
   "source": [
    "X_train.groupby('bathroomcnt')['bathroomcnt'].count()"
   ]
  },
  {
   "cell_type": "code",
   "execution_count": 41,
   "metadata": {},
   "outputs": [],
   "source": [
    "b_room_ct = X_train.groupby('bathroomcnt')['bathroomcnt'].count()"
   ]
  },
  {
   "cell_type": "code",
   "execution_count": 42,
   "metadata": {},
   "outputs": [
    {
     "data": {
      "image/png": "[encoded data removed]",
      "text/plain": [
       "<Figure size 432x288 with 1 Axes>"
      ]
     },
     "metadata": {
      "needs_background": "light"
     },
     "output_type": "display_data"
    }
   ],
   "source": [
    "b_room_ct.hist()\n",
    "plt.show()"
   ]
  },
  {
   "cell_type": "code",
   "execution_count": 43,
   "metadata": {},
   "outputs": [],
   "source": [
    "\n",
    "# bins = [x*.5 for x in range(0,23)]\n",
    "# ax.hist(X_train, bins, orientation='horizontal')\n",
    "# #ax.set_ylim([-5, 5])\n",
    "# plt.show()"
   ]
  },
  {
   "cell_type": "code",
   "execution_count": null,
   "metadata": {},
   "outputs": [],
   "source": []
  },
  {
   "cell_type": "code",
   "execution_count": null,
   "metadata": {},
   "outputs": [],
   "source": []
  },
  {
   "cell_type": "code",
   "execution_count": 44,
   "metadata": {},
   "outputs": [
    {
     "data": {
      "text/plain": [
       "11499    (2, 3]\n",
       "6475     (1, 2]\n",
       "13167    (1, 2]\n",
       "862      (2, 3]\n",
       "5970     (1, 2]\n",
       "6706     (1, 2]\n",
       "3017     (1, 2]\n",
       "3781     (0, 1]\n",
       "3898     (1, 2]\n",
       "2250     (2, 3]\n",
       "542      (2, 3]\n",
       "4351     (2, 3]\n",
       "12807    (2, 3]\n",
       "6631     (1, 2]\n",
       "6705     (1, 2]\n",
       "6978     (0, 1]\n",
       "7399     (3, 4]\n",
       "11119    (4, 5]\n",
       "12665    (2, 3]\n",
       "5304     (1, 2]\n",
       "2312     (1, 2]\n",
       "7040     (1, 2]\n",
       "1889     (1, 2]\n",
       "8991     (2, 3]\n",
       "169      (1, 2]\n",
       "1795     (3, 4]\n",
       "3975     (1, 2]\n",
       "6820     (1, 2]\n",
       "7826     (1, 2]\n",
       "11809    (1, 2]\n",
       "          ...  \n",
       "14499    (2, 3]\n",
       "14297    (2, 3]\n",
       "10918    (1, 2]\n",
       "1119     (0, 1]\n",
       "11925    (0, 1]\n",
       "8629     (3, 4]\n",
       "11899    (1, 2]\n",
       "14759    (2, 3]\n",
       "12786    (2, 3]\n",
       "13010    (2, 3]\n",
       "2186     (1, 2]\n",
       "9671     (6, 7]\n",
       "10770    (4, 5]\n",
       "14818    (2, 3]\n",
       "3997     (1, 2]\n",
       "4935     (0, 1]\n",
       "14420    (2, 3]\n",
       "1432     (2, 3]\n",
       "4785     (0, 1]\n",
       "11028    (1, 2]\n",
       "6021     (2, 3]\n",
       "4902     (0, 1]\n",
       "2174     (2, 3]\n",
       "6388     (0, 1]\n",
       "3941     (0, 1]\n",
       "2102     (1, 2]\n",
       "13903    (1, 2]\n",
       "11863    (2, 3]\n",
       "2656     (0, 1]\n",
       "7250     (1, 2]\n",
       "Name: bathroomcnt, Length: 3750, dtype: category\n",
       "Categories (10, interval[int64]): [(0, 1] < (1, 2] < (2, 3] < (3, 4] ... (6, 7] < (7, 8] < (8, 9] < (9, 10]]"
      ]
     },
     "execution_count": 44,
     "metadata": {},
     "output_type": "execute_result"
    }
   ],
   "source": [
    "# bathroom_count = pd.cut(X_test.bathroomcnt,bins=[0,1,2,3,4,5,6,7,8,9,10])\n",
    "pd.cut(X_test.bathroomcnt,bins=[0,1,2,3,4,5,6,7,8,9,10])"
   ]
  },
  {
   "cell_type": "code",
   "execution_count": 45,
   "metadata": {},
   "outputs": [
    {
     "data": {
      "text/plain": [
       "(array([0.000e+00, 0.000e+00, 2.002e+03, 1.770e+02, 4.610e+03, 8.680e+02,\n",
       "        2.351e+03, 2.360e+02, 5.060e+02, 1.490e+02, 1.730e+02, 5.000e+01,\n",
       "        7.800e+01, 1.300e+01, 1.600e+01, 4.000e+00, 1.200e+01, 0.000e+00,\n",
       "        3.000e+00, 0.000e+00, 1.000e+00, 1.000e+00]),\n",
       " array([ 0. ,  0.5,  1. ,  1.5,  2. ,  2.5,  3. ,  3.5,  4. ,  4.5,  5. ,\n",
       "         5.5,  6. ,  6.5,  7. ,  7.5,  8. ,  8.5,  9. ,  9.5, 10. , 10.5,\n",
       "        11. ]),\n",
       " <a list of 22 Patch objects>)"
      ]
     },
     "execution_count": 45,
     "metadata": {},
     "output_type": "execute_result"
    },
    {
     "data": {
      "image/png": "[encoded data removed]",
      "text/plain": [
       "<Figure size 432x288 with 1 Axes>"
      ]
     },
     "metadata": {
      "needs_background": "light"
     },
     "output_type": "display_data"
    }
   ],
   "source": [
    "plt.hist(X_train.bathroomcnt, bins = [x*.5 for x in range(0,23)], color = 'green')"
   ]
  },
  {
   "cell_type": "code",
   "execution_count": null,
   "metadata": {},
   "outputs": [],
   "source": []
  },
  {
   "cell_type": "code",
   "execution_count": null,
   "metadata": {},
   "outputs": [],
   "source": []
  },
  {
   "cell_type": "markdown",
   "metadata": {},
   "source": [
    "# TAX RATE SECTION"
   ]
  },
  {
   "cell_type": "code",
   "execution_count": 46,
   "metadata": {},
   "outputs": [
    {
     "name": "stdout",
     "output_type": "stream",
     "text": [
      "\n",
      " \n",
      " \n",
      "BRINGING IN TAX FIELDS AND COUNTY DATA\n"
     ]
    }
   ],
   "source": [
    "tax_county_data = wrangle_project.wrangle_zillow_tax_amounts()"
   ]
  },
  {
   "cell_type": "code",
   "execution_count": 47,
   "metadata": {},
   "outputs": [
    {
     "data": {
      "text/plain": [
       "pandas.core.frame.DataFrame"
      ]
     },
     "execution_count": 47,
     "metadata": {},
     "output_type": "execute_result"
    }
   ],
   "source": [
    "type(tax_county_data)"
   ]
  },
  {
   "cell_type": "code",
   "execution_count": 51,
   "metadata": {},
   "outputs": [
    {
     "data": {
      "text/plain": [
       "(15052, 5)"
      ]
     },
     "execution_count": 51,
     "metadata": {},
     "output_type": "execute_result"
    }
   ],
   "source": [
    "tax_county_data.shape"
   ]
  },
  {
   "cell_type": "code",
   "execution_count": 48,
   "metadata": {},
   "outputs": [
    {
     "data": {
      "text/html": [
       "<div>\n",
       "<style scoped>\n",
       "    .dataframe tbody tr th:only-of-type {\n",
       "        vertical-align: middle;\n",
       "    }\n",
       "\n",
       "    .dataframe tbody tr th {\n",
       "        vertical-align: top;\n",
       "    }\n",
       "\n",
       "    .dataframe thead th {\n",
       "        text-align: right;\n",
       "    }\n",
       "</style>\n",
       "<table border=\"1\" class=\"dataframe\">\n",
       "  <thead>\n",
       "    <tr style=\"text-align: right;\">\n",
       "      <th></th>\n",
       "      <th>taxvaluedollarcnt</th>\n",
       "      <th>taxamount</th>\n",
       "      <th>fips</th>\n",
       "      <th>regionidcounty</th>\n",
       "      <th>transactiondate</th>\n",
       "    </tr>\n",
       "  </thead>\n",
       "  <tbody>\n",
       "    <tr>\n",
       "      <th>0</th>\n",
       "      <td>136104.0</td>\n",
       "      <td>2319.90</td>\n",
       "      <td>6037.0</td>\n",
       "      <td>3101.0</td>\n",
       "      <td>2017-06-23</td>\n",
       "    </tr>\n",
       "    <tr>\n",
       "      <th>1</th>\n",
       "      <td>35606.0</td>\n",
       "      <td>543.69</td>\n",
       "      <td>6037.0</td>\n",
       "      <td>3101.0</td>\n",
       "      <td>2017-06-30</td>\n",
       "    </tr>\n",
       "    <tr>\n",
       "      <th>2</th>\n",
       "      <td>880456.0</td>\n",
       "      <td>9819.72</td>\n",
       "      <td>6059.0</td>\n",
       "      <td>1286.0</td>\n",
       "      <td>2017-06-01</td>\n",
       "    </tr>\n",
       "    <tr>\n",
       "      <th>3</th>\n",
       "      <td>614000.0</td>\n",
       "      <td>7673.19</td>\n",
       "      <td>6037.0</td>\n",
       "      <td>3101.0</td>\n",
       "      <td>2017-06-01</td>\n",
       "    </tr>\n",
       "    <tr>\n",
       "      <th>4</th>\n",
       "      <td>274237.0</td>\n",
       "      <td>3267.47</td>\n",
       "      <td>6037.0</td>\n",
       "      <td>3101.0</td>\n",
       "      <td>2017-06-29</td>\n",
       "    </tr>\n",
       "  </tbody>\n",
       "</table>\n",
       "</div>"
      ],
      "text/plain": [
       "   taxvaluedollarcnt  taxamount    fips  regionidcounty transactiondate\n",
       "0           136104.0    2319.90  6037.0          3101.0      2017-06-23\n",
       "1            35606.0     543.69  6037.0          3101.0      2017-06-30\n",
       "2           880456.0    9819.72  6059.0          1286.0      2017-06-01\n",
       "3           614000.0    7673.19  6037.0          3101.0      2017-06-01\n",
       "4           274237.0    3267.47  6037.0          3101.0      2017-06-29"
      ]
     },
     "execution_count": 48,
     "metadata": {},
     "output_type": "execute_result"
    }
   ],
   "source": [
    "tax_county_data.head()"
   ]
  },
  {
   "cell_type": "code",
   "execution_count": 49,
   "metadata": {},
   "outputs": [
    {
     "data": {
      "text/plain": [
       "taxvaluedollarcnt    float64\n",
       "taxamount            float64\n",
       "fips                 float64\n",
       "regionidcounty       float64\n",
       "transactiondate       object\n",
       "dtype: object"
      ]
     },
     "execution_count": 49,
     "metadata": {},
     "output_type": "execute_result"
    }
   ],
   "source": [
    "tax_county_data.dtypes"
   ]
  },
  {
   "cell_type": "code",
   "execution_count": 50,
   "metadata": {},
   "outputs": [
    {
     "data": {
      "text/html": [
       "<div>\n",
       "<style scoped>\n",
       "    .dataframe tbody tr th:only-of-type {\n",
       "        vertical-align: middle;\n",
       "    }\n",
       "\n",
       "    .dataframe tbody tr th {\n",
       "        vertical-align: top;\n",
       "    }\n",
       "\n",
       "    .dataframe thead th {\n",
       "        text-align: right;\n",
       "    }\n",
       "</style>\n",
       "<table border=\"1\" class=\"dataframe\">\n",
       "  <thead>\n",
       "    <tr style=\"text-align: right;\">\n",
       "      <th></th>\n",
       "      <th>taxvaluedollarcnt</th>\n",
       "      <th>taxamount</th>\n",
       "      <th>fips</th>\n",
       "      <th>regionidcounty</th>\n",
       "    </tr>\n",
       "  </thead>\n",
       "  <tbody>\n",
       "    <tr>\n",
       "      <th>count</th>\n",
       "      <td>1.505200e+04</td>\n",
       "      <td>15051.000000</td>\n",
       "      <td>15052.000000</td>\n",
       "      <td>15052.000000</td>\n",
       "    </tr>\n",
       "    <tr>\n",
       "      <th>mean</th>\n",
       "      <td>5.430786e+05</td>\n",
       "      <td>6614.312272</td>\n",
       "      <td>6049.460803</td>\n",
       "      <td>2514.808464</td>\n",
       "    </tr>\n",
       "    <tr>\n",
       "      <th>std</th>\n",
       "      <td>7.351143e+05</td>\n",
       "      <td>8510.506075</td>\n",
       "      <td>21.320433</td>\n",
       "      <td>806.258133</td>\n",
       "    </tr>\n",
       "    <tr>\n",
       "      <th>min</th>\n",
       "      <td>1.050400e+04</td>\n",
       "      <td>51.260000</td>\n",
       "      <td>6037.000000</td>\n",
       "      <td>1286.000000</td>\n",
       "    </tr>\n",
       "    <tr>\n",
       "      <th>25%</th>\n",
       "      <td>1.985815e+05</td>\n",
       "      <td>2705.585000</td>\n",
       "      <td>6037.000000</td>\n",
       "      <td>1286.000000</td>\n",
       "    </tr>\n",
       "    <tr>\n",
       "      <th>50%</th>\n",
       "      <td>3.848840e+05</td>\n",
       "      <td>4769.530000</td>\n",
       "      <td>6037.000000</td>\n",
       "      <td>3101.000000</td>\n",
       "    </tr>\n",
       "    <tr>\n",
       "      <th>75%</th>\n",
       "      <td>6.450000e+05</td>\n",
       "      <td>7681.130000</td>\n",
       "      <td>6059.000000</td>\n",
       "      <td>3101.000000</td>\n",
       "    </tr>\n",
       "    <tr>\n",
       "      <th>max</th>\n",
       "      <td>2.385837e+07</td>\n",
       "      <td>276797.830000</td>\n",
       "      <td>6111.000000</td>\n",
       "      <td>3101.000000</td>\n",
       "    </tr>\n",
       "  </tbody>\n",
       "</table>\n",
       "</div>"
      ],
      "text/plain": [
       "       taxvaluedollarcnt      taxamount          fips  regionidcounty\n",
       "count       1.505200e+04   15051.000000  15052.000000    15052.000000\n",
       "mean        5.430786e+05    6614.312272   6049.460803     2514.808464\n",
       "std         7.351143e+05    8510.506075     21.320433      806.258133\n",
       "min         1.050400e+04      51.260000   6037.000000     1286.000000\n",
       "25%         1.985815e+05    2705.585000   6037.000000     1286.000000\n",
       "50%         3.848840e+05    4769.530000   6037.000000     3101.000000\n",
       "75%         6.450000e+05    7681.130000   6059.000000     3101.000000\n",
       "max         2.385837e+07  276797.830000   6111.000000     3101.000000"
      ]
     },
     "execution_count": 50,
     "metadata": {},
     "output_type": "execute_result"
    }
   ],
   "source": [
    "tax_county_data.describe()"
   ]
  },
  {
   "cell_type": "code",
   "execution_count": 56,
   "metadata": {},
   "outputs": [],
   "source": [
    "# adding new column to create tax rate\n",
    "#df['passing_math'] = df.math > 70\n",
    "tax_county_data['tax_rate'] = tax_county_data.taxamount / tax_county_data.taxvaluedollarcnt "
   ]
  },
  {
   "cell_type": "code",
   "execution_count": 57,
   "metadata": {},
   "outputs": [
    {
     "data": {
      "text/plain": [
       "(15052, 6)"
      ]
     },
     "execution_count": 57,
     "metadata": {},
     "output_type": "execute_result"
    }
   ],
   "source": [
    "tax_county_data.shape"
   ]
  },
  {
   "cell_type": "code",
   "execution_count": 58,
   "metadata": {},
   "outputs": [
    {
     "data": {
      "text/plain": [
       "taxvaluedollarcnt    float64\n",
       "taxamount            float64\n",
       "fips                 float64\n",
       "regionidcounty       float64\n",
       "transactiondate       object\n",
       "tax_rate             float64\n",
       "dtype: object"
      ]
     },
     "execution_count": 58,
     "metadata": {},
     "output_type": "execute_result"
    }
   ],
   "source": [
    "tax_county_data.dtypes"
   ]
  },
  {
   "cell_type": "code",
   "execution_count": 59,
   "metadata": {},
   "outputs": [
    {
     "data": {
      "text/html": [
       "<div>\n",
       "<style scoped>\n",
       "    .dataframe tbody tr th:only-of-type {\n",
       "        vertical-align: middle;\n",
       "    }\n",
       "\n",
       "    .dataframe tbody tr th {\n",
       "        vertical-align: top;\n",
       "    }\n",
       "\n",
       "    .dataframe thead th {\n",
       "        text-align: right;\n",
       "    }\n",
       "</style>\n",
       "<table border=\"1\" class=\"dataframe\">\n",
       "  <thead>\n",
       "    <tr style=\"text-align: right;\">\n",
       "      <th></th>\n",
       "      <th>taxvaluedollarcnt</th>\n",
       "      <th>taxamount</th>\n",
       "      <th>fips</th>\n",
       "      <th>regionidcounty</th>\n",
       "      <th>transactiondate</th>\n",
       "      <th>tax_rate</th>\n",
       "    </tr>\n",
       "  </thead>\n",
       "  <tbody>\n",
       "    <tr>\n",
       "      <th>0</th>\n",
       "      <td>136104.0</td>\n",
       "      <td>2319.90</td>\n",
       "      <td>6037.0</td>\n",
       "      <td>3101.0</td>\n",
       "      <td>2017-06-23</td>\n",
       "      <td>0.017045</td>\n",
       "    </tr>\n",
       "    <tr>\n",
       "      <th>1</th>\n",
       "      <td>35606.0</td>\n",
       "      <td>543.69</td>\n",
       "      <td>6037.0</td>\n",
       "      <td>3101.0</td>\n",
       "      <td>2017-06-30</td>\n",
       "      <td>0.015270</td>\n",
       "    </tr>\n",
       "    <tr>\n",
       "      <th>2</th>\n",
       "      <td>880456.0</td>\n",
       "      <td>9819.72</td>\n",
       "      <td>6059.0</td>\n",
       "      <td>1286.0</td>\n",
       "      <td>2017-06-01</td>\n",
       "      <td>0.011153</td>\n",
       "    </tr>\n",
       "    <tr>\n",
       "      <th>3</th>\n",
       "      <td>614000.0</td>\n",
       "      <td>7673.19</td>\n",
       "      <td>6037.0</td>\n",
       "      <td>3101.0</td>\n",
       "      <td>2017-06-01</td>\n",
       "      <td>0.012497</td>\n",
       "    </tr>\n",
       "    <tr>\n",
       "      <th>4</th>\n",
       "      <td>274237.0</td>\n",
       "      <td>3267.47</td>\n",
       "      <td>6037.0</td>\n",
       "      <td>3101.0</td>\n",
       "      <td>2017-06-29</td>\n",
       "      <td>0.011915</td>\n",
       "    </tr>\n",
       "  </tbody>\n",
       "</table>\n",
       "</div>"
      ],
      "text/plain": [
       "   taxvaluedollarcnt  taxamount    fips  regionidcounty transactiondate  \\\n",
       "0           136104.0    2319.90  6037.0          3101.0      2017-06-23   \n",
       "1            35606.0     543.69  6037.0          3101.0      2017-06-30   \n",
       "2           880456.0    9819.72  6059.0          1286.0      2017-06-01   \n",
       "3           614000.0    7673.19  6037.0          3101.0      2017-06-01   \n",
       "4           274237.0    3267.47  6037.0          3101.0      2017-06-29   \n",
       "\n",
       "   tax_rate  \n",
       "0  0.017045  \n",
       "1  0.015270  \n",
       "2  0.011153  \n",
       "3  0.012497  \n",
       "4  0.011915  "
      ]
     },
     "execution_count": 59,
     "metadata": {},
     "output_type": "execute_result"
    }
   ],
   "source": [
    "tax_county_data.head()"
   ]
  },
  {
   "cell_type": "code",
   "execution_count": null,
   "metadata": {},
   "outputs": [],
   "source": [
    "tax_rate_\n",
    "tax_rate_\n",
    "tax_rate_"
   ]
  }
 ],
 "metadata": {
  "kernelspec": {
   "display_name": "Python 3",
   "language": "python",
   "name": "python3"
  },
  "language_info": {
   "codemirror_mode": {
    "name": "ipython",
    "version": 3
   },
   "file_extension": ".py",
   "mimetype": "text/x-python",
   "name": "python",
   "nbconvert_exporter": "python",
   "pygments_lexer": "ipython3",
   "version": "3.7.3"
  }
 },
 "nbformat": 4,
 "nbformat_minor": 2
}
