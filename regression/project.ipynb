{
 "cells": [
  {
   "cell_type": "markdown",
   "metadata": {},
   "source": [
    "sql_notes_for_project"
   ]
  },
  {
   "cell_type": "markdown",
   "metadata": {},
   "source": [
    "OBJECTIVE\n",
    "- to predict the values of single unit properties \n",
    "\n",
    "     that the tax district assesses using the property data \n",
    "           from those whose last transaction \n",
    "           was during the \"hot months\" (in terms of real estate demand) of May and June in 2017.\n",
    "           \n",
    "     (where these properties were located)\n",
    "     property taxes are assessed at the county level\n",
    "- To know what states and counties these are located in (THIS IS INVOLVES THE FIPS DATA)\n",
    "\n",
    "- to know the distribution of tax rates for each county\n",
    "      tax amounts and tax value of the home\n",
    "  ** include the distribution of tax rates for each county\n",
    "  **This is separate from the model you will build,\n",
    "  \n",
    "# other notes (for MVP)\n",
    "\n",
    "Other notes:\n",
    "\n",
    "- For the first iteration of your model, \n",
    "   use only \n",
    "   square feet, number of bedrooms, and number of bathrooms \n",
    "            to estimate the properties assessed value, 'taxvaluedollarcnt'. \n",
    "            \n",
    "  You can expand this to other fields after you have completed an mvp (minimally viable product).\n",
    "  \n",
    "- You will want to read and re-read the requirements given by your stakeholders to be sure you are meeting all of their needs and representing it in your data, report and model.\n",
    "\n",
    "- You will want to do some data validation or QA (quality assurance) to be sure the data you gather is what you think it is.\n",
    "\n",
    "- You will want to make sure you are using the best fields to represent square feel of home, number of bedrooms and number of bathrooms. best => the most accurate and available information. You will need to do some data investigation in the database and use your domain expertise to make some judgement calls.\n"
   ]
  },
  {
   "cell_type": "markdown",
   "metadata": {},
   "source": [
    "SOURCE DB\n",
    "zillow DB\n"
   ]
  },
  {
   "cell_type": "markdown",
   "metadata": {},
   "source": []
  },
  {
   "cell_type": "markdown",
   "metadata": {},
   "source": [
    "SHOW TABLES;"
   ]
  },
  {
   "cell_type": "markdown",
   "metadata": {},
   "source": [
    "airconditioningtype\n",
    "architecturalstyletype\n",
    "buildingclasstype\n",
    "heatingorsystemtype\n",
    "predictions_2016\n",
    "predictions_2017\n",
    "properties_2016\n",
    "properties_2017\n",
    "propertylandusetype\n",
    "storytype\n",
    "typeconstructiontype\n",
    "unique_properties"
   ]
  },
  {
   "cell_type": "markdown",
   "metadata": {},
   "source": []
  },
  {
   "cell_type": "markdown",
   "metadata": {},
   "source": [
    "DESCRIBE airconditioningtype;"
   ]
  },
  {
   "cell_type": "markdown",
   "metadata": {},
   "source": [
    "airconditioningtypeid\tbigint(20)\tNO\tPRI\tNULL\t\n",
    "airconditioningdesc\ttext\tYES\t\tNULL\t"
   ]
  },
  {
   "cell_type": "markdown",
   "metadata": {},
   "source": []
  },
  {
   "cell_type": "markdown",
   "metadata": {},
   "source": []
  },
  {
   "cell_type": "markdown",
   "metadata": {},
   "source": [
    "DESCRIBE architecturalstyletype;"
   ]
  },
  {
   "cell_type": "markdown",
   "metadata": {},
   "source": [
    "architecturalstyletypeid\tbigint(20)\tNO\tPRI\tNULL\t\n",
    "architecturalstyledesc\ttext\tYES\t\tNULL\t"
   ]
  },
  {
   "cell_type": "markdown",
   "metadata": {},
   "source": []
  },
  {
   "cell_type": "markdown",
   "metadata": {},
   "source": []
  },
  {
   "cell_type": "markdown",
   "metadata": {},
   "source": []
  },
  {
   "cell_type": "markdown",
   "metadata": {},
   "source": [
    "DESCRIBE buildingclasstype;"
   ]
  },
  {
   "cell_type": "markdown",
   "metadata": {},
   "source": [
    "buildingclasstypeid\tbigint(20)\tNO\tPRI\tNULL\t\n",
    "buildingclassdesc\ttext\tYES\t\tNULL\t"
   ]
  },
  {
   "cell_type": "markdown",
   "metadata": {},
   "source": [
    ">>>>\n",
    "- Buildings having fireproofed structural steel frames carrying all wall, floor and roof loads. Wall, floor and roof structures are built of non-combustible materials.\n",
    "- Buildings having fireproofed reinforced concrete frames carrying all wall floor and roof loads which are all non-combustible.\n",
    "- Buildings having exterior walls built of a non-combustible material such as brick, concrete, block or poured concrete. Interior partitions and roof structures are built of combustible materials. Floor may be concrete or wood frame.\n",
    "- Buildings having wood or wood and steel frames\n",
    "- Specialized buildings that do not fit in any of the above categories"
   ]
  },
  {
   "cell_type": "markdown",
   "metadata": {},
   "source": []
  },
  {
   "cell_type": "markdown",
   "metadata": {},
   "source": []
  },
  {
   "cell_type": "markdown",
   "metadata": {},
   "source": [
    "DESCRIBE heatingorsystemtype;"
   ]
  },
  {
   "cell_type": "markdown",
   "metadata": {},
   "source": [
    "heatingorsystemtypeid\tbigint(20)\tNO\tPRI\tNULL\t\n",
    "heatingorsystemdesc\ttext\tYES\t\tNULL\t"
   ]
  },
  {
   "cell_type": "markdown",
   "metadata": {},
   "source": []
  },
  {
   "cell_type": "markdown",
   "metadata": {},
   "source": []
  },
  {
   "cell_type": "markdown",
   "metadata": {},
   "source": []
  },
  {
   "cell_type": "markdown",
   "metadata": {},
   "source": [
    "DESCRIBE predictions_2016;"
   ]
  },
  {
   "cell_type": "markdown",
   "metadata": {},
   "source": [
    "id\tbigint(20)\tYES\tMUL\tNULL\t\n",
    "parcelid\tbigint(20)\tYES\t\tNULL\t\n",
    "logerror\tdouble\tYES\t\tNULL\t\n",
    "transactiondate\ttext\tYES\t\tNULL\t"
   ]
  },
  {
   "cell_type": "markdown",
   "metadata": {},
   "source": []
  },
  {
   "cell_type": "markdown",
   "metadata": {},
   "source": []
  },
  {
   "cell_type": "markdown",
   "metadata": {},
   "source": []
  },
  {
   "cell_type": "markdown",
   "metadata": {},
   "source": [
    "DESCRIBE predictions_2017;"
   ]
  },
  {
   "cell_type": "markdown",
   "metadata": {},
   "source": [
    "id\tbigint(20)\tYES\tMUL\tNULL\t\n",
    "parcelid\tbigint(20)\tYES\t\tNULL\t\n",
    "logerror\tdouble\tYES\t\tNULL\t\n",
    "transactiondate\ttext\tYES\t\tNULL\t"
   ]
  },
  {
   "cell_type": "markdown",
   "metadata": {},
   "source": [
    "id  parcelid    logerror              transactiondate\n",
    "0\t14297519\t0.025594901758400002\t2017-01-01\n",
    "1\t17052889\t0.0556190874015\t2017-01-01\n",
    "2\t14186244\t0.0053828530468900005\t2017-01-01\n",
    "3\t12177905\t-0.103409666332\t2017-01-01\n",
    "4\t10887214\t0.00694035920822\t2017-01-01"
   ]
  },
  {
   "cell_type": "markdown",
   "metadata": {},
   "source": []
  },
  {
   "cell_type": "markdown",
   "metadata": {},
   "source": []
  },
  {
   "cell_type": "markdown",
   "metadata": {},
   "source": [
    "DESCRIBE properties_2016;"
   ]
  },
  {
   "cell_type": "markdown",
   "metadata": {},
   "source": [
    "see DESCRIBE properties_2017 below;"
   ]
  },
  {
   "cell_type": "markdown",
   "metadata": {},
   "source": [
    "  - note data output is too large\n",
    "    run the below\n",
    "SELECT *\n",
    "FROM properties_2016\n",
    "LIMIT 5;"
   ]
  },
  {
   "cell_type": "markdown",
   "metadata": {},
   "source": [
    "DESCRIBE properties_2017;"
   ]
  },
  {
   "cell_type": "markdown",
   "metadata": {},
   "source": [
    "id\tbigint(20)\tYES\tMUL\tNULL\t\n",
    "parcelid\tbigint(20)\tYES\tMUL\tNULL\t\n",
    "airconditioningtypeid\tdouble\tYES\t\tNULL\t\n",
    "architecturalstyletypeid\tdouble\tYES\t\tNULL\t\n",
    "basementsqft\tdouble\tYES\t\tNULL\t\n",
    "bathroomcnt\tdouble\tYES\t\tNULL\t\n",
    "bedroomcnt\tdouble\tYES\t\tNULL\t\n",
    "buildingclasstypeid\tdouble\tYES\t\tNULL\t\n",
    "buildingqualitytypeid\tdouble\tYES\t\tNULL\t\n",
    "calculatedbathnbr\tdouble\tYES\t\tNULL\t\n",
    "decktypeid\tdouble\tYES\t\tNULL\t\n",
    "finishedfloor1squarefeet\tdouble\tYES\t\tNULL\t\n",
    "calculatedfinishedsquarefeet\tdouble\tYES\t\tNULL\t\n",
    "finishedsquarefeet12\tdouble\tYES\t\tNULL\t\n",
    "finishedsquarefeet13\tdouble\tYES\t\tNULL\t\n",
    "finishedsquarefeet15\tdouble\tYES\t\tNULL\t\n",
    "finishedsquarefeet50\tdouble\tYES\t\tNULL\t\n",
    "finishedsquarefeet6\tdouble\tYES\t\tNULL\t\n",
    "fips\tdouble\tYES\t\tNULL\t\n",
    "fireplacecnt\tdouble\tYES\t\tNULL\t\n",
    "fullbathcnt\tdouble\tYES\t\tNULL\t\n",
    "garagecarcnt\tdouble\tYES\t\tNULL\t\n",
    "garagetotalsqft\tdouble\tYES\t\tNULL\t\n",
    "hashottuborspa\ttinyint(1)\tYES\t\tNULL\t\n",
    "heatingorsystemtypeid\tdouble\tYES\t\tNULL\t\n",
    "latitude\tdouble\tYES\t\tNULL\t\n",
    "longitude\tdouble\tYES\t\tNULL\t\n",
    "lotsizesquarefeet\tdouble\tYES\t\tNULL\t\n",
    "poolcnt\tdouble\tYES\t\tNULL\t\n",
    "poolsizesum\tdouble\tYES\t\tNULL\t\n",
    "pooltypeid10\tdouble\tYES\t\tNULL\t\n",
    "pooltypeid2\tdouble\tYES\t\tNULL\t\n",
    "pooltypeid7\tdouble\tYES\t\tNULL\t\n",
    "propertycountylandusecode\ttext\tYES\t\tNULL\t\n",
    "propertylandusetypeid\tdouble\tYES\t\tNULL\t\n",
    "propertyzoningdesc\ttext\tYES\t\tNULL\t\n",
    "rawcensustractandblock\tdouble\tYES\t\tNULL\t\n",
    "regionidcity\tdouble\tYES\t\tNULL\t\n",
    "regionidcounty\tdouble\tYES\t\tNULL\t\n",
    "regionidneighborhood\tdouble\tYES\t\tNULL\t\n",
    "regionidzip\tdouble\tYES\t\tNULL\t\n",
    "roomcnt\tdouble\tYES\t\tNULL\t\n",
    "storytypeid\tdouble\tYES\t\tNULL\t\n",
    "threequarterbathnbr\tdouble\tYES\t\tNULL\t\n",
    "typeconstructiontypeid\tdouble\tYES\t\tNULL\t\n",
    "unitcnt\tdouble\tYES\t\tNULL\t\n",
    "yardbuildingsqft17\tdouble\tYES\t\tNULL\t\n",
    "yardbuildingsqft26\tdouble\tYES\t\tNULL\t\n",
    "yearbuilt\tdouble\tYES\t\tNULL\t\n",
    "numberofstories\tdouble\tYES\t\tNULL\t\n",
    "fireplaceflag\ttinyint(1)\tYES\t\tNULL\t\n",
    "structuretaxvaluedollarcnt\tdouble\tYES\t\tNULL\t\n",
    "taxvaluedollarcnt\tdouble\tYES\t\tNULL\t\n",
    "assessmentyear\tdouble\tYES\t\tNULL\t\n",
    "landtaxvaluedollarcnt\tdouble\tYES\t\tNULL\t\n",
    "taxamount\tdouble\tYES\t\tNULL\t\n",
    "taxdelinquencyflag\ttext\tYES\t\tNULL\t\n",
    "taxdelinquencyyear\tdouble\tYES\t\tNULL\t\n",
    "censustractandblock\tdouble\tYES\t\tNULL\t"
   ]
  },
  {
   "cell_type": "markdown",
   "metadata": {},
   "source": []
  },
  {
   "cell_type": "markdown",
   "metadata": {},
   "source": []
  },
  {
   "cell_type": "markdown",
   "metadata": {},
   "source": []
  },
  {
   "cell_type": "markdown",
   "metadata": {},
   "source": [
    "DESCRIBE propertylandusetype;"
   ]
  },
  {
   "cell_type": "markdown",
   "metadata": {},
   "source": [
    "propertylandusetypeid\tbigint(20)\tNO\tPRI\tNULL\t\n",
    "propertylandusedesc\ttext\tYES\t\tNULL\t"
   ]
  },
  {
   "cell_type": "markdown",
   "metadata": {},
   "source": [
    "propertylandusetypeid propertylandusedesc\n",
    "31\tCommercial/Office/Residential Mixed Used\n",
    "46\tMulti-Story Store\n",
    "47\tStore/Office (Mixed Use)\n",
    "246\tDuplex (2 Units, Any Combination)\n",
    "247\tTriplex (3 Units, Any Combination)\n",
    "248\tQuadruplex (4 Units, Any Combination)\n",
    "260\tResidential General\n",
    "261\tSingle Family Residential\n",
    "262\tRural Residence\n",
    "263\tMobile Home\n",
    "264\tTownhouse\n",
    "265\tCluster Home\n",
    "266\tCondominium\n",
    "267\tCooperative\n",
    "268\tRow House\n",
    "269\tPlanned Unit Development\n",
    "270\tResidential Common Area\n",
    "271\tTimeshare\n",
    "273\tBungalow\n",
    "274\tZero Lot Line\n",
    "275\tManufactured, Modular, Prefabricated Homes\n",
    "276\tPatio Home\n",
    "279\tInferred Single Family Residential\n",
    "290\tVacant Land - General\n",
    "291\tResidential Vacant Land"
   ]
  },
  {
   "cell_type": "markdown",
   "metadata": {},
   "source": [
    "# valid data criteria\n",
    "- RESEARCHING matching criteria for \"single unit properties\"\n",
    "\n",
    "   - these do not appear to contradict \"single unit property\" criteris\n",
    "   - will join table and filter to include only these \n",
    "   - aka TABLE propertylandusetype | COL propertylandusetypeid\n",
    "261\tSingle Family Residential\n",
    "262\tRural Residence\n",
    "273\tBungalow\n",
    "275\tManufactured, Modular, Prefabricated Homes\n",
    "279\tInferred Single Family Residential\n",
    "\n",
    "================================================\n",
    "- EXCLUDING these\n",
    "\n",
    "-  these are not residential by definition\n",
    "31\tCommercial/Office/Residential Mixed Used \n",
    "46\tMulti-Story Store\n",
    "47\tStore/Office (Mixed Use)\n",
    "\n",
    "- these are not single unit defined by Cali code\n",
    "246\tDuplex (2 Units, Any Combination) \n",
    "247\tTriplex (3 Units, Any Combination)\n",
    "248\tQuadruplex (4 Units, Any Combination)\n",
    "264\tTownhouse\n",
    "\n",
    "- too vague and/or can include multi-unit\n",
    "\n",
    "260\tResidential General\n",
    "263\tMobile Home (could be mobile park)\n",
    "265\tCluster Home\n",
    "266\tCondominium\n",
    "267\tCooperative\n",
    "268\tRow House\n",
    "269\tPlanned Unit Development\n",
    "276\tPatio Home\n",
    "290\tVacant Land - General\n",
    "291\tResidential Vacant Land\n",
    "\n",
    "- N/As\n",
    "270\tResidential Common Area\n",
    "271\tTimeshare\n",
    "274\tZero Lot Line"
   ]
  },
  {
   "cell_type": "markdown",
   "metadata": {},
   "source": []
  },
  {
   "cell_type": "markdown",
   "metadata": {},
   "source": [
    "DESCRIBE storytype;"
   ]
  },
  {
   "cell_type": "markdown",
   "metadata": {},
   "source": [
    "storytypeid\tbigint(20)\tNO\tPRI\tNULL\t\n",
    "storydesc\ttext\tYES\t\tNULL\t"
   ]
  },
  {
   "cell_type": "markdown",
   "metadata": {},
   "source": [
    "storytypeid storydesc\n",
    "1\tAttic & Basement\n",
    "2\tAttic\n",
    "3\tBi-Level with Attic & Basement\n",
    "4\tBi-Level\n",
    "5\tBi-Level with Attic\n",
    "6\tBi-Level with Basement\n",
    "7\tBasement\n",
    "8\tSplit Entry with Attic & Basement\n",
    "9\tSplit Foyer with Attic & Basement\n",
    "10\tLevel with Attic & Basement"
   ]
  },
  {
   "cell_type": "markdown",
   "metadata": {},
   "source": []
  },
  {
   "cell_type": "markdown",
   "metadata": {},
   "source": []
  },
  {
   "cell_type": "markdown",
   "metadata": {},
   "source": [
    "DESCRIBE typeconstructiontype;"
   ]
  },
  {
   "cell_type": "markdown",
   "metadata": {},
   "source": [
    "typeconstructiontypeid\tbigint(20)\tNO\tPRI\tNULL\t\n",
    "typeconstructiondesc\ttext\tYES\t\tNULL\t"
   ]
  },
  {
   "cell_type": "markdown",
   "metadata": {},
   "source": [
    "typeconstructiontypeid typeconstructiondesc\n",
    "1\tAdobe\n",
    "2\tBrick\n",
    "3\tConcrete Block\n",
    "4\tConcrete\n",
    "5\tDome\n",
    "6\tFrame\n",
    "7\tHeavy\n",
    "8\tLog\n",
    "9\tLight\n",
    "10\tMetal\n",
    "11\tManufactured\n",
    "12\tMixed\n",
    "13\tMasonry\n",
    "14\tOther\n",
    "15\tSteel\n",
    "16\tStone\n",
    "17\tTilt-Up\n",
    "18\tWood"
   ]
  },
  {
   "cell_type": "markdown",
   "metadata": {},
   "source": []
  },
  {
   "cell_type": "markdown",
   "metadata": {},
   "source": []
  },
  {
   "cell_type": "markdown",
   "metadata": {},
   "source": [
    "DESCRIBE unique_properties;"
   ]
  },
  {
   "cell_type": "markdown",
   "metadata": {},
   "source": [
    "parcelid\tint(11)\tNO\tPRI\tNULL\t"
   ]
  },
  {
   "cell_type": "markdown",
   "metadata": {},
   "source": [
    "parcelid\n",
    "10711725\n",
    "10711726\n",
    "10711727\n",
    "10711728\n",
    "10711729"
   ]
  },
  {
   "cell_type": "markdown",
   "metadata": {},
   "source": []
  },
  {
   "cell_type": "markdown",
   "metadata": {},
   "source": [
    "# SQL exploration"
   ]
  },
  {
   "cell_type": "markdown",
   "metadata": {},
   "source": [
    "SELECT *\n",
    "FROM properties_2017\n",
    "LIMIT 20;\n",
    ">>>\n",
    "OUTPUT TOO LARGE"
   ]
  },
  {
   "cell_type": "code",
   "execution_count": null,
   "metadata": {},
   "outputs": [],
   "source": []
  },
  {
   "cell_type": "markdown",
   "metadata": {},
   "source": [
    "SELECT regionidcounty, COUNT(*)\n",
    "FROM properties_2017\n",
    "GROUP BY regionidcounty;\n",
    ">>>\n",
    "regionidcounty, COUNT(*)\n",
    "NULL\t2932\n",
    "1286\t745800\n",
    "2061\t223744\n",
    "3101\t2012741"
   ]
  },
  {
   "cell_type": "code",
   "execution_count": null,
   "metadata": {},
   "outputs": [],
   "source": []
  },
  {
   "cell_type": "markdown",
   "metadata": {},
   "source": [
    "SELECT COUNT(DISTINCT regionidcity)\n",
    "FROM properties_2017;\n",
    "\n",
    ">>>\n",
    "186"
   ]
  },
  {
   "cell_type": "markdown",
   "metadata": {},
   "source": []
  },
  {
   "cell_type": "markdown",
   "metadata": {},
   "source": [
    "FIPS are possibly an important id, they are \"The zipped folders stored on Exavault correspond to states and\n",
    "are named according to state FIPS codes.\" \n",
    "see https://www.zillow.com/research/ztrax/ztrax-faqs/\n",
    "\n",
    "for FIPS Codes, see https://www.nrcs.usda.gov/wps/portal/nrcs/detail/national/home/?cid=nrcs143_013697"
   ]
  },
  {
   "cell_type": "markdown",
   "metadata": {},
   "source": [
    "SELECT COUNT(DISTINCT fips)\n",
    "FROM properties_2017;\n",
    ">>>\n",
    "3"
   ]
  },
  {
   "cell_type": "markdown",
   "metadata": {},
   "source": [
    "SELECT fips, COUNT(*)\n",
    "FROM properties_2017\n",
    "GROUP BY fips;\n",
    ">>>\n",
    "NULL\t2932\n",
    "6037\t2012741\n",
    "6059\t745800\n",
    "6111\t223744"
   ]
  },
  {
   "cell_type": "markdown",
   "metadata": {},
   "source": [
    "According to nrcs.usda.gov\n",
    "County FIPS Codes:\n",
    ">>>\n",
    "06037\tLos Angeles\tCA\n",
    "06059\tOrange\tCA\n",
    "06111\tVentura\tCA"
   ]
  },
  {
   "cell_type": "code",
   "execution_count": null,
   "metadata": {},
   "outputs": [],
   "source": []
  },
  {
   "cell_type": "markdown",
   "metadata": {},
   "source": [
    "- Fields of interest FOR LATER (for beyond MVP)\n",
    "From properties_2016, or properties_2017\n",
    "\n",
    "WHERE propertylandusetypeid = 261 262 275 279\n",
    "\n",
    "\n",
    "id, parcelid, bathroomcnt, bedroomcnt, buildingclasstypeid, buildingqualitypeid, calculatedfinishedsquarefeet, finishedsquarefeet15, fips, lotsizesquarefeet, propertycountylandusecode, propertylandusetypeid, propertyzoningdesc, regionidcity, regionidcounty, regionidneighborhood, regionidzip, roomcnt, yearbuilt, structuretaxvaluedollarcnt, taxvaluedollarcnt, assessmentyear, landtaxvaluedollarcnt, taxamount,\n"
   ]
  },
  {
   "cell_type": "code",
   "execution_count": null,
   "metadata": {},
   "outputs": [],
   "source": []
  },
  {
   "cell_type": "markdown",
   "metadata": {},
   "source": [
    "# Baseline"
   ]
  },
  {
   "cell_type": "markdown",
   "metadata": {},
   "source": [
    "REMEMBER use only \n",
    "   square feet, number of bedrooms, and number of bathrooms \n",
    "            to estimate the properties assessed value, 'taxvaluedollarcnt'. "
   ]
  },
  {
   "cell_type": "markdown",
   "metadata": {},
   "source": [
    "# wrangle_project"
   ]
  },
  {
   "cell_type": "markdown",
   "metadata": {},
   "source": [
    "    SELECT calculatedfinishedsquarefeet, bedroomcnt, bathroomcnt, taxvaluedollarcnt\n",
    "    FROM properties_2017\n",
    "    WHERE propertylandusetypeid IN (261, 262, 273, 275, 279)"
   ]
  },
  {
   "cell_type": "code",
   "execution_count": 1,
   "metadata": {},
   "outputs": [],
   "source": [
    "import warnings\n",
    "warnings.filterwarnings(\"ignore\")\n",
    "\n",
    "import pandas as pd\n",
    "# %matplotlib inline # only for JNB, not for native python\n",
    "import matplotlib.pyplot as plt\n",
    "import seaborn as sns\n",
    "import numpy as np\n",
    "import env\n",
    "import wrangle_project\n",
    "\n",
    "from scipy import stats\n",
    "from math import sqrt"
   ]
  },
  {
   "cell_type": "code",
   "execution_count": 2,
   "metadata": {},
   "outputs": [
    {
     "name": "stdout",
     "output_type": "stream",
     "text": [
      "\n",
      " \n",
      " \n",
      " \n",
      " \n",
      "BEGINNING OF WRANGLE OUTPUTS\n"
     ]
    }
   ],
   "source": [
    "zillow_mvp = wrangle_project.wrangle_zillow()"
   ]
  },
  {
   "cell_type": "code",
   "execution_count": 3,
   "metadata": {},
   "outputs": [
    {
     "data": {
      "text/plain": [
       "pandas.core.frame.DataFrame"
      ]
     },
     "execution_count": 3,
     "metadata": {},
     "output_type": "execute_result"
    }
   ],
   "source": [
    "type(zillow_mvp)"
   ]
  },
  {
   "cell_type": "code",
   "execution_count": 4,
   "metadata": {},
   "outputs": [
    {
     "data": {
      "text/plain": [
       "(15052, 4)"
      ]
     },
     "execution_count": 4,
     "metadata": {},
     "output_type": "execute_result"
    }
   ],
   "source": [
    "zillow_mvp.shape"
   ]
  },
  {
   "cell_type": "code",
   "execution_count": 5,
   "metadata": {},
   "outputs": [
    {
     "data": {
      "text/html": [
       "<div>\n",
       "<style scoped>\n",
       "    .dataframe tbody tr th:only-of-type {\n",
       "        vertical-align: middle;\n",
       "    }\n",
       "\n",
       "    .dataframe tbody tr th {\n",
       "        vertical-align: top;\n",
       "    }\n",
       "\n",
       "    .dataframe thead th {\n",
       "        text-align: right;\n",
       "    }\n",
       "</style>\n",
       "<table border=\"1\" class=\"dataframe\">\n",
       "  <thead>\n",
       "    <tr style=\"text-align: right;\">\n",
       "      <th></th>\n",
       "      <th>calculatedfinishedsquarefeet</th>\n",
       "      <th>bedroomcnt</th>\n",
       "      <th>bathroomcnt</th>\n",
       "      <th>taxvaluedollarcnt</th>\n",
       "    </tr>\n",
       "  </thead>\n",
       "  <tbody>\n",
       "    <tr>\n",
       "      <th>0</th>\n",
       "      <td>1458.0</td>\n",
       "      <td>3.0</td>\n",
       "      <td>2.0</td>\n",
       "      <td>136104.0</td>\n",
       "    </tr>\n",
       "    <tr>\n",
       "      <th>1</th>\n",
       "      <td>1421.0</td>\n",
       "      <td>2.0</td>\n",
       "      <td>1.0</td>\n",
       "      <td>35606.0</td>\n",
       "    </tr>\n",
       "    <tr>\n",
       "      <th>2</th>\n",
       "      <td>2541.0</td>\n",
       "      <td>4.0</td>\n",
       "      <td>3.0</td>\n",
       "      <td>880456.0</td>\n",
       "    </tr>\n",
       "    <tr>\n",
       "      <th>3</th>\n",
       "      <td>1650.0</td>\n",
       "      <td>3.0</td>\n",
       "      <td>2.0</td>\n",
       "      <td>614000.0</td>\n",
       "    </tr>\n",
       "    <tr>\n",
       "      <th>4</th>\n",
       "      <td>693.0</td>\n",
       "      <td>2.0</td>\n",
       "      <td>1.0</td>\n",
       "      <td>274237.0</td>\n",
       "    </tr>\n",
       "  </tbody>\n",
       "</table>\n",
       "</div>"
      ],
      "text/plain": [
       "   calculatedfinishedsquarefeet  bedroomcnt  bathroomcnt  taxvaluedollarcnt\n",
       "0                        1458.0         3.0          2.0           136104.0\n",
       "1                        1421.0         2.0          1.0            35606.0\n",
       "2                        2541.0         4.0          3.0           880456.0\n",
       "3                        1650.0         3.0          2.0           614000.0\n",
       "4                         693.0         2.0          1.0           274237.0"
      ]
     },
     "execution_count": 5,
     "metadata": {},
     "output_type": "execute_result"
    }
   ],
   "source": [
    "zillow_mvp.head()"
   ]
  },
  {
   "cell_type": "markdown",
   "metadata": {},
   "source": [
    "WRANGLE X and TARGET \n",
    "    aka separating X and y"
   ]
  },
  {
   "cell_type": "code",
   "execution_count": 7,
   "metadata": {},
   "outputs": [],
   "source": [
    "mvp_X, mvp_y = wrangle_project.mvp_sort_X_y(zillow_mvp)"
   ]
  },
  {
   "cell_type": "code",
   "execution_count": 10,
   "metadata": {},
   "outputs": [
    {
     "data": {
      "text/plain": [
       "((15052, 3), pandas.core.frame.DataFrame)"
      ]
     },
     "execution_count": 10,
     "metadata": {},
     "output_type": "execute_result"
    }
   ],
   "source": [
    "mvp_X.shape, type(mvp_X)"
   ]
  },
  {
   "cell_type": "code",
   "execution_count": 11,
   "metadata": {},
   "outputs": [
    {
     "data": {
      "text/plain": [
       "((15052, 1), pandas.core.frame.DataFrame)"
      ]
     },
     "execution_count": 11,
     "metadata": {},
     "output_type": "execute_result"
    }
   ],
   "source": [
    "mvp_y.shape, type(mvp_y)"
   ]
  },
  {
   "cell_type": "markdown",
   "metadata": {},
   "source": [
    "ONLY DO THE BOLD FOR THE BASELINE\n",
    "\n",
    "**scale data\n",
    "\n",
    "no - explore for any visual\n",
    "no - evaluate\n",
    "   Q2. Compute evaluation metrics for a baseline model\n",
    "      3. Coefficient of Determination and the F-test\n",
    "   Q3. Are our features valuable? The T-test for feature significance\n",
    "   Q4. How much confidence do we have in our results?\n",
    "       Parameters and confidence\n",
    "no - Feature Engineering\n",
    "\n",
    "**Modeling with Regression Algorithms\n"
   ]
  }
 ],
 "metadata": {
  "kernelspec": {
   "display_name": "Python 3",
   "language": "python",
   "name": "python3"
  },
  "language_info": {
   "codemirror_mode": {
    "name": "ipython",
    "version": 3
   },
   "file_extension": ".py",
   "mimetype": "text/x-python",
   "name": "python",
   "nbconvert_exporter": "python",
   "pygments_lexer": "ipython3",
   "version": "3.7.3"
  }
 },
 "nbformat": 4,
 "nbformat_minor": 2
}
